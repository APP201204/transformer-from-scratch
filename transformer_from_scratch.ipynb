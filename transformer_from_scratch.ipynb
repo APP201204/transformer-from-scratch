{
  "nbformat": 4,
  "nbformat_minor": 0,
  "metadata": {
    "colab": {
      "provenance": [],
      "gpuType": "T4"
    },
    "kernelspec": {
      "name": "python3",
      "display_name": "Python 3"
    },
    "language_info": {
      "name": "python"
    },
    "accelerator": "GPU",
    "widgets": {
      "application/vnd.jupyter.widget-state+json": {
        "0e5bd3e3773b4b72a32de13e2ecdcd45": {
          "model_module": "@jupyter-widgets/controls",
          "model_name": "HBoxModel",
          "model_module_version": "1.5.0",
          "state": {
            "_dom_classes": [],
            "_model_module": "@jupyter-widgets/controls",
            "_model_module_version": "1.5.0",
            "_model_name": "HBoxModel",
            "_view_count": null,
            "_view_module": "@jupyter-widgets/controls",
            "_view_module_version": "1.5.0",
            "_view_name": "HBoxView",
            "box_style": "",
            "children": [
              "IPY_MODEL_e3550e03e3e74fde8126dcfa333f9701",
              "IPY_MODEL_faf1398d0ef349249ea4aa464843010e",
              "IPY_MODEL_780b7df2c1cb4769bdaf7dc13c845f3f"
            ],
            "layout": "IPY_MODEL_f0b6a35e29a14fa2b80ac347504c85fa"
          }
        },
        "e3550e03e3e74fde8126dcfa333f9701": {
          "model_module": "@jupyter-widgets/controls",
          "model_name": "HTMLModel",
          "model_module_version": "1.5.0",
          "state": {
            "_dom_classes": [],
            "_model_module": "@jupyter-widgets/controls",
            "_model_module_version": "1.5.0",
            "_model_name": "HTMLModel",
            "_view_count": null,
            "_view_module": "@jupyter-widgets/controls",
            "_view_module_version": "1.5.0",
            "_view_name": "HTMLView",
            "description": "",
            "description_tooltip": null,
            "layout": "IPY_MODEL_9d836377ab9a401e8946cba870dd1d6f",
            "placeholder": "​",
            "style": "IPY_MODEL_0bb85459093748ce8f769240b52c3383",
            "value": "Downloading readme: 100%"
          }
        },
        "faf1398d0ef349249ea4aa464843010e": {
          "model_module": "@jupyter-widgets/controls",
          "model_name": "FloatProgressModel",
          "model_module_version": "1.5.0",
          "state": {
            "_dom_classes": [],
            "_model_module": "@jupyter-widgets/controls",
            "_model_module_version": "1.5.0",
            "_model_name": "FloatProgressModel",
            "_view_count": null,
            "_view_module": "@jupyter-widgets/controls",
            "_view_module_version": "1.5.0",
            "_view_name": "ProgressView",
            "bar_style": "success",
            "description": "",
            "description_tooltip": null,
            "layout": "IPY_MODEL_34e89eee89fb4dc395e1d1d49d31a3bd",
            "max": 25164,
            "min": 0,
            "orientation": "horizontal",
            "style": "IPY_MODEL_c4ce12a610e34ea39094c742f494b0e2",
            "value": 25164
          }
        },
        "780b7df2c1cb4769bdaf7dc13c845f3f": {
          "model_module": "@jupyter-widgets/controls",
          "model_name": "HTMLModel",
          "model_module_version": "1.5.0",
          "state": {
            "_dom_classes": [],
            "_model_module": "@jupyter-widgets/controls",
            "_model_module_version": "1.5.0",
            "_model_name": "HTMLModel",
            "_view_count": null,
            "_view_module": "@jupyter-widgets/controls",
            "_view_module_version": "1.5.0",
            "_view_name": "HTMLView",
            "description": "",
            "description_tooltip": null,
            "layout": "IPY_MODEL_5ad4a161fe8b46448a964a7513dad928",
            "placeholder": "​",
            "style": "IPY_MODEL_a5a41649c2c7410994bf7874509f9cfd",
            "value": " 25.2k/25.2k [00:00&lt;00:00, 1.06MB/s]"
          }
        },
        "f0b6a35e29a14fa2b80ac347504c85fa": {
          "model_module": "@jupyter-widgets/base",
          "model_name": "LayoutModel",
          "model_module_version": "1.2.0",
          "state": {
            "_model_module": "@jupyter-widgets/base",
            "_model_module_version": "1.2.0",
            "_model_name": "LayoutModel",
            "_view_count": null,
            "_view_module": "@jupyter-widgets/base",
            "_view_module_version": "1.2.0",
            "_view_name": "LayoutView",
            "align_content": null,
            "align_items": null,
            "align_self": null,
            "border": null,
            "bottom": null,
            "display": null,
            "flex": null,
            "flex_flow": null,
            "grid_area": null,
            "grid_auto_columns": null,
            "grid_auto_flow": null,
            "grid_auto_rows": null,
            "grid_column": null,
            "grid_gap": null,
            "grid_row": null,
            "grid_template_areas": null,
            "grid_template_columns": null,
            "grid_template_rows": null,
            "height": null,
            "justify_content": null,
            "justify_items": null,
            "left": null,
            "margin": null,
            "max_height": null,
            "max_width": null,
            "min_height": null,
            "min_width": null,
            "object_fit": null,
            "object_position": null,
            "order": null,
            "overflow": null,
            "overflow_x": null,
            "overflow_y": null,
            "padding": null,
            "right": null,
            "top": null,
            "visibility": null,
            "width": null
          }
        },
        "9d836377ab9a401e8946cba870dd1d6f": {
          "model_module": "@jupyter-widgets/base",
          "model_name": "LayoutModel",
          "model_module_version": "1.2.0",
          "state": {
            "_model_module": "@jupyter-widgets/base",
            "_model_module_version": "1.2.0",
            "_model_name": "LayoutModel",
            "_view_count": null,
            "_view_module": "@jupyter-widgets/base",
            "_view_module_version": "1.2.0",
            "_view_name": "LayoutView",
            "align_content": null,
            "align_items": null,
            "align_self": null,
            "border": null,
            "bottom": null,
            "display": null,
            "flex": null,
            "flex_flow": null,
            "grid_area": null,
            "grid_auto_columns": null,
            "grid_auto_flow": null,
            "grid_auto_rows": null,
            "grid_column": null,
            "grid_gap": null,
            "grid_row": null,
            "grid_template_areas": null,
            "grid_template_columns": null,
            "grid_template_rows": null,
            "height": null,
            "justify_content": null,
            "justify_items": null,
            "left": null,
            "margin": null,
            "max_height": null,
            "max_width": null,
            "min_height": null,
            "min_width": null,
            "object_fit": null,
            "object_position": null,
            "order": null,
            "overflow": null,
            "overflow_x": null,
            "overflow_y": null,
            "padding": null,
            "right": null,
            "top": null,
            "visibility": null,
            "width": null
          }
        },
        "0bb85459093748ce8f769240b52c3383": {
          "model_module": "@jupyter-widgets/controls",
          "model_name": "DescriptionStyleModel",
          "model_module_version": "1.5.0",
          "state": {
            "_model_module": "@jupyter-widgets/controls",
            "_model_module_version": "1.5.0",
            "_model_name": "DescriptionStyleModel",
            "_view_count": null,
            "_view_module": "@jupyter-widgets/base",
            "_view_module_version": "1.2.0",
            "_view_name": "StyleView",
            "description_width": ""
          }
        },
        "34e89eee89fb4dc395e1d1d49d31a3bd": {
          "model_module": "@jupyter-widgets/base",
          "model_name": "LayoutModel",
          "model_module_version": "1.2.0",
          "state": {
            "_model_module": "@jupyter-widgets/base",
            "_model_module_version": "1.2.0",
            "_model_name": "LayoutModel",
            "_view_count": null,
            "_view_module": "@jupyter-widgets/base",
            "_view_module_version": "1.2.0",
            "_view_name": "LayoutView",
            "align_content": null,
            "align_items": null,
            "align_self": null,
            "border": null,
            "bottom": null,
            "display": null,
            "flex": null,
            "flex_flow": null,
            "grid_area": null,
            "grid_auto_columns": null,
            "grid_auto_flow": null,
            "grid_auto_rows": null,
            "grid_column": null,
            "grid_gap": null,
            "grid_row": null,
            "grid_template_areas": null,
            "grid_template_columns": null,
            "grid_template_rows": null,
            "height": null,
            "justify_content": null,
            "justify_items": null,
            "left": null,
            "margin": null,
            "max_height": null,
            "max_width": null,
            "min_height": null,
            "min_width": null,
            "object_fit": null,
            "object_position": null,
            "order": null,
            "overflow": null,
            "overflow_x": null,
            "overflow_y": null,
            "padding": null,
            "right": null,
            "top": null,
            "visibility": null,
            "width": null
          }
        },
        "c4ce12a610e34ea39094c742f494b0e2": {
          "model_module": "@jupyter-widgets/controls",
          "model_name": "ProgressStyleModel",
          "model_module_version": "1.5.0",
          "state": {
            "_model_module": "@jupyter-widgets/controls",
            "_model_module_version": "1.5.0",
            "_model_name": "ProgressStyleModel",
            "_view_count": null,
            "_view_module": "@jupyter-widgets/base",
            "_view_module_version": "1.2.0",
            "_view_name": "StyleView",
            "bar_color": null,
            "description_width": ""
          }
        },
        "5ad4a161fe8b46448a964a7513dad928": {
          "model_module": "@jupyter-widgets/base",
          "model_name": "LayoutModel",
          "model_module_version": "1.2.0",
          "state": {
            "_model_module": "@jupyter-widgets/base",
            "_model_module_version": "1.2.0",
            "_model_name": "LayoutModel",
            "_view_count": null,
            "_view_module": "@jupyter-widgets/base",
            "_view_module_version": "1.2.0",
            "_view_name": "LayoutView",
            "align_content": null,
            "align_items": null,
            "align_self": null,
            "border": null,
            "bottom": null,
            "display": null,
            "flex": null,
            "flex_flow": null,
            "grid_area": null,
            "grid_auto_columns": null,
            "grid_auto_flow": null,
            "grid_auto_rows": null,
            "grid_column": null,
            "grid_gap": null,
            "grid_row": null,
            "grid_template_areas": null,
            "grid_template_columns": null,
            "grid_template_rows": null,
            "height": null,
            "justify_content": null,
            "justify_items": null,
            "left": null,
            "margin": null,
            "max_height": null,
            "max_width": null,
            "min_height": null,
            "min_width": null,
            "object_fit": null,
            "object_position": null,
            "order": null,
            "overflow": null,
            "overflow_x": null,
            "overflow_y": null,
            "padding": null,
            "right": null,
            "top": null,
            "visibility": null,
            "width": null
          }
        },
        "a5a41649c2c7410994bf7874509f9cfd": {
          "model_module": "@jupyter-widgets/controls",
          "model_name": "DescriptionStyleModel",
          "model_module_version": "1.5.0",
          "state": {
            "_model_module": "@jupyter-widgets/controls",
            "_model_module_version": "1.5.0",
            "_model_name": "DescriptionStyleModel",
            "_view_count": null,
            "_view_module": "@jupyter-widgets/base",
            "_view_module_version": "1.2.0",
            "_view_name": "StyleView",
            "description_width": ""
          }
        },
        "76d6393f2c894fd5b58652336f3c4746": {
          "model_module": "@jupyter-widgets/controls",
          "model_name": "HBoxModel",
          "model_module_version": "1.5.0",
          "state": {
            "_dom_classes": [],
            "_model_module": "@jupyter-widgets/controls",
            "_model_module_version": "1.5.0",
            "_model_name": "HBoxModel",
            "_view_count": null,
            "_view_module": "@jupyter-widgets/controls",
            "_view_module_version": "1.5.0",
            "_view_name": "HBoxView",
            "box_style": "",
            "children": [
              "IPY_MODEL_76c5247b66b7440b9a4304e6dd55137d",
              "IPY_MODEL_27550b9dd5094a30bc807d0016677882",
              "IPY_MODEL_dbec285f3244417fb71a4cbe0ca14db8"
            ],
            "layout": "IPY_MODEL_c2266b0dedf54517a0441a3b6ce25b31"
          }
        },
        "76c5247b66b7440b9a4304e6dd55137d": {
          "model_module": "@jupyter-widgets/controls",
          "model_name": "HTMLModel",
          "model_module_version": "1.5.0",
          "state": {
            "_dom_classes": [],
            "_model_module": "@jupyter-widgets/controls",
            "_model_module_version": "1.5.0",
            "_model_name": "HTMLModel",
            "_view_count": null,
            "_view_module": "@jupyter-widgets/controls",
            "_view_module_version": "1.5.0",
            "_view_name": "HTMLView",
            "description": "",
            "description_tooltip": null,
            "layout": "IPY_MODEL_cfcc513e812642bd93ef2d0ac4d32cc4",
            "placeholder": "​",
            "style": "IPY_MODEL_aedabc7d5c634982a4e372b8d237d98a",
            "value": "Downloading data files: 100%"
          }
        },
        "27550b9dd5094a30bc807d0016677882": {
          "model_module": "@jupyter-widgets/controls",
          "model_name": "FloatProgressModel",
          "model_module_version": "1.5.0",
          "state": {
            "_dom_classes": [],
            "_model_module": "@jupyter-widgets/controls",
            "_model_module_version": "1.5.0",
            "_model_name": "FloatProgressModel",
            "_view_count": null,
            "_view_module": "@jupyter-widgets/controls",
            "_view_module_version": "1.5.0",
            "_view_name": "ProgressView",
            "bar_style": "success",
            "description": "",
            "description_tooltip": null,
            "layout": "IPY_MODEL_c89713a7f22c4df3aba9ead3cb7b2272",
            "max": 1,
            "min": 0,
            "orientation": "horizontal",
            "style": "IPY_MODEL_62da68fed0bd45bc9114ba0d66c1dff7",
            "value": 1
          }
        },
        "dbec285f3244417fb71a4cbe0ca14db8": {
          "model_module": "@jupyter-widgets/controls",
          "model_name": "HTMLModel",
          "model_module_version": "1.5.0",
          "state": {
            "_dom_classes": [],
            "_model_module": "@jupyter-widgets/controls",
            "_model_module_version": "1.5.0",
            "_model_name": "HTMLModel",
            "_view_count": null,
            "_view_module": "@jupyter-widgets/controls",
            "_view_module_version": "1.5.0",
            "_view_name": "HTMLView",
            "description": "",
            "description_tooltip": null,
            "layout": "IPY_MODEL_7b0e1c2043dd42c2b512821f297f149f",
            "placeholder": "​",
            "style": "IPY_MODEL_4ef7258726ec4f1cb91b6a8bcf314170",
            "value": " 1/1 [00:02&lt;00:00,  2.17s/it]"
          }
        },
        "c2266b0dedf54517a0441a3b6ce25b31": {
          "model_module": "@jupyter-widgets/base",
          "model_name": "LayoutModel",
          "model_module_version": "1.2.0",
          "state": {
            "_model_module": "@jupyter-widgets/base",
            "_model_module_version": "1.2.0",
            "_model_name": "LayoutModel",
            "_view_count": null,
            "_view_module": "@jupyter-widgets/base",
            "_view_module_version": "1.2.0",
            "_view_name": "LayoutView",
            "align_content": null,
            "align_items": null,
            "align_self": null,
            "border": null,
            "bottom": null,
            "display": null,
            "flex": null,
            "flex_flow": null,
            "grid_area": null,
            "grid_auto_columns": null,
            "grid_auto_flow": null,
            "grid_auto_rows": null,
            "grid_column": null,
            "grid_gap": null,
            "grid_row": null,
            "grid_template_areas": null,
            "grid_template_columns": null,
            "grid_template_rows": null,
            "height": null,
            "justify_content": null,
            "justify_items": null,
            "left": null,
            "margin": null,
            "max_height": null,
            "max_width": null,
            "min_height": null,
            "min_width": null,
            "object_fit": null,
            "object_position": null,
            "order": null,
            "overflow": null,
            "overflow_x": null,
            "overflow_y": null,
            "padding": null,
            "right": null,
            "top": null,
            "visibility": null,
            "width": null
          }
        },
        "cfcc513e812642bd93ef2d0ac4d32cc4": {
          "model_module": "@jupyter-widgets/base",
          "model_name": "LayoutModel",
          "model_module_version": "1.2.0",
          "state": {
            "_model_module": "@jupyter-widgets/base",
            "_model_module_version": "1.2.0",
            "_model_name": "LayoutModel",
            "_view_count": null,
            "_view_module": "@jupyter-widgets/base",
            "_view_module_version": "1.2.0",
            "_view_name": "LayoutView",
            "align_content": null,
            "align_items": null,
            "align_self": null,
            "border": null,
            "bottom": null,
            "display": null,
            "flex": null,
            "flex_flow": null,
            "grid_area": null,
            "grid_auto_columns": null,
            "grid_auto_flow": null,
            "grid_auto_rows": null,
            "grid_column": null,
            "grid_gap": null,
            "grid_row": null,
            "grid_template_areas": null,
            "grid_template_columns": null,
            "grid_template_rows": null,
            "height": null,
            "justify_content": null,
            "justify_items": null,
            "left": null,
            "margin": null,
            "max_height": null,
            "max_width": null,
            "min_height": null,
            "min_width": null,
            "object_fit": null,
            "object_position": null,
            "order": null,
            "overflow": null,
            "overflow_x": null,
            "overflow_y": null,
            "padding": null,
            "right": null,
            "top": null,
            "visibility": null,
            "width": null
          }
        },
        "aedabc7d5c634982a4e372b8d237d98a": {
          "model_module": "@jupyter-widgets/controls",
          "model_name": "DescriptionStyleModel",
          "model_module_version": "1.5.0",
          "state": {
            "_model_module": "@jupyter-widgets/controls",
            "_model_module_version": "1.5.0",
            "_model_name": "DescriptionStyleModel",
            "_view_count": null,
            "_view_module": "@jupyter-widgets/base",
            "_view_module_version": "1.2.0",
            "_view_name": "StyleView",
            "description_width": ""
          }
        },
        "c89713a7f22c4df3aba9ead3cb7b2272": {
          "model_module": "@jupyter-widgets/base",
          "model_name": "LayoutModel",
          "model_module_version": "1.2.0",
          "state": {
            "_model_module": "@jupyter-widgets/base",
            "_model_module_version": "1.2.0",
            "_model_name": "LayoutModel",
            "_view_count": null,
            "_view_module": "@jupyter-widgets/base",
            "_view_module_version": "1.2.0",
            "_view_name": "LayoutView",
            "align_content": null,
            "align_items": null,
            "align_self": null,
            "border": null,
            "bottom": null,
            "display": null,
            "flex": null,
            "flex_flow": null,
            "grid_area": null,
            "grid_auto_columns": null,
            "grid_auto_flow": null,
            "grid_auto_rows": null,
            "grid_column": null,
            "grid_gap": null,
            "grid_row": null,
            "grid_template_areas": null,
            "grid_template_columns": null,
            "grid_template_rows": null,
            "height": null,
            "justify_content": null,
            "justify_items": null,
            "left": null,
            "margin": null,
            "max_height": null,
            "max_width": null,
            "min_height": null,
            "min_width": null,
            "object_fit": null,
            "object_position": null,
            "order": null,
            "overflow": null,
            "overflow_x": null,
            "overflow_y": null,
            "padding": null,
            "right": null,
            "top": null,
            "visibility": null,
            "width": null
          }
        },
        "62da68fed0bd45bc9114ba0d66c1dff7": {
          "model_module": "@jupyter-widgets/controls",
          "model_name": "ProgressStyleModel",
          "model_module_version": "1.5.0",
          "state": {
            "_model_module": "@jupyter-widgets/controls",
            "_model_module_version": "1.5.0",
            "_model_name": "ProgressStyleModel",
            "_view_count": null,
            "_view_module": "@jupyter-widgets/base",
            "_view_module_version": "1.2.0",
            "_view_name": "StyleView",
            "bar_color": null,
            "description_width": ""
          }
        },
        "7b0e1c2043dd42c2b512821f297f149f": {
          "model_module": "@jupyter-widgets/base",
          "model_name": "LayoutModel",
          "model_module_version": "1.2.0",
          "state": {
            "_model_module": "@jupyter-widgets/base",
            "_model_module_version": "1.2.0",
            "_model_name": "LayoutModel",
            "_view_count": null,
            "_view_module": "@jupyter-widgets/base",
            "_view_module_version": "1.2.0",
            "_view_name": "LayoutView",
            "align_content": null,
            "align_items": null,
            "align_self": null,
            "border": null,
            "bottom": null,
            "display": null,
            "flex": null,
            "flex_flow": null,
            "grid_area": null,
            "grid_auto_columns": null,
            "grid_auto_flow": null,
            "grid_auto_rows": null,
            "grid_column": null,
            "grid_gap": null,
            "grid_row": null,
            "grid_template_areas": null,
            "grid_template_columns": null,
            "grid_template_rows": null,
            "height": null,
            "justify_content": null,
            "justify_items": null,
            "left": null,
            "margin": null,
            "max_height": null,
            "max_width": null,
            "min_height": null,
            "min_width": null,
            "object_fit": null,
            "object_position": null,
            "order": null,
            "overflow": null,
            "overflow_x": null,
            "overflow_y": null,
            "padding": null,
            "right": null,
            "top": null,
            "visibility": null,
            "width": null
          }
        },
        "4ef7258726ec4f1cb91b6a8bcf314170": {
          "model_module": "@jupyter-widgets/controls",
          "model_name": "DescriptionStyleModel",
          "model_module_version": "1.5.0",
          "state": {
            "_model_module": "@jupyter-widgets/controls",
            "_model_module_version": "1.5.0",
            "_model_name": "DescriptionStyleModel",
            "_view_count": null,
            "_view_module": "@jupyter-widgets/base",
            "_view_module_version": "1.2.0",
            "_view_name": "StyleView",
            "description_width": ""
          }
        },
        "068bc8b8a45244bca288e0024dc01384": {
          "model_module": "@jupyter-widgets/controls",
          "model_name": "HBoxModel",
          "model_module_version": "1.5.0",
          "state": {
            "_dom_classes": [],
            "_model_module": "@jupyter-widgets/controls",
            "_model_module_version": "1.5.0",
            "_model_name": "HBoxModel",
            "_view_count": null,
            "_view_module": "@jupyter-widgets/controls",
            "_view_module_version": "1.5.0",
            "_view_name": "HBoxView",
            "box_style": "",
            "children": [
              "IPY_MODEL_b0fd061be26f4b74b81a4d8d734f5188",
              "IPY_MODEL_31e81bbbbc9c4269bf8517c5d9c7c593",
              "IPY_MODEL_88fb6d5263c94ab38e1ea36bb01da2cb"
            ],
            "layout": "IPY_MODEL_2c23aaf2b81544a8810188edaa05d24e"
          }
        },
        "b0fd061be26f4b74b81a4d8d734f5188": {
          "model_module": "@jupyter-widgets/controls",
          "model_name": "HTMLModel",
          "model_module_version": "1.5.0",
          "state": {
            "_dom_classes": [],
            "_model_module": "@jupyter-widgets/controls",
            "_model_module_version": "1.5.0",
            "_model_name": "HTMLModel",
            "_view_count": null,
            "_view_module": "@jupyter-widgets/controls",
            "_view_module_version": "1.5.0",
            "_view_name": "HTMLView",
            "description": "",
            "description_tooltip": null,
            "layout": "IPY_MODEL_707b817056354ed3be4f5b4707d8dc93",
            "placeholder": "​",
            "style": "IPY_MODEL_8229d8e2d7eb4752b672de3bce18c3fc",
            "value": "Downloading data: 100%"
          }
        },
        "31e81bbbbc9c4269bf8517c5d9c7c593": {
          "model_module": "@jupyter-widgets/controls",
          "model_name": "FloatProgressModel",
          "model_module_version": "1.5.0",
          "state": {
            "_dom_classes": [],
            "_model_module": "@jupyter-widgets/controls",
            "_model_module_version": "1.5.0",
            "_model_name": "FloatProgressModel",
            "_view_count": null,
            "_view_module": "@jupyter-widgets/controls",
            "_view_module_version": "1.5.0",
            "_view_name": "ProgressView",
            "bar_style": "success",
            "description": "",
            "description_tooltip": null,
            "layout": "IPY_MODEL_6063252a50c745f39d6d2944889bc092",
            "max": 16080303,
            "min": 0,
            "orientation": "horizontal",
            "style": "IPY_MODEL_a912d211cdc34e70857957e3fded9cac",
            "value": 16080303
          }
        },
        "88fb6d5263c94ab38e1ea36bb01da2cb": {
          "model_module": "@jupyter-widgets/controls",
          "model_name": "HTMLModel",
          "model_module_version": "1.5.0",
          "state": {
            "_dom_classes": [],
            "_model_module": "@jupyter-widgets/controls",
            "_model_module_version": "1.5.0",
            "_model_name": "HTMLModel",
            "_view_count": null,
            "_view_module": "@jupyter-widgets/controls",
            "_view_module_version": "1.5.0",
            "_view_name": "HTMLView",
            "description": "",
            "description_tooltip": null,
            "layout": "IPY_MODEL_cddce4eba7694d0e8db492f55fd083b2",
            "placeholder": "​",
            "style": "IPY_MODEL_e229793202f241e5b3fb6a3ae73741f6",
            "value": " 16.1M/16.1M [00:02&lt;00:00, 6.44MB/s]"
          }
        },
        "2c23aaf2b81544a8810188edaa05d24e": {
          "model_module": "@jupyter-widgets/base",
          "model_name": "LayoutModel",
          "model_module_version": "1.2.0",
          "state": {
            "_model_module": "@jupyter-widgets/base",
            "_model_module_version": "1.2.0",
            "_model_name": "LayoutModel",
            "_view_count": null,
            "_view_module": "@jupyter-widgets/base",
            "_view_module_version": "1.2.0",
            "_view_name": "LayoutView",
            "align_content": null,
            "align_items": null,
            "align_self": null,
            "border": null,
            "bottom": null,
            "display": null,
            "flex": null,
            "flex_flow": null,
            "grid_area": null,
            "grid_auto_columns": null,
            "grid_auto_flow": null,
            "grid_auto_rows": null,
            "grid_column": null,
            "grid_gap": null,
            "grid_row": null,
            "grid_template_areas": null,
            "grid_template_columns": null,
            "grid_template_rows": null,
            "height": null,
            "justify_content": null,
            "justify_items": null,
            "left": null,
            "margin": null,
            "max_height": null,
            "max_width": null,
            "min_height": null,
            "min_width": null,
            "object_fit": null,
            "object_position": null,
            "order": null,
            "overflow": null,
            "overflow_x": null,
            "overflow_y": null,
            "padding": null,
            "right": null,
            "top": null,
            "visibility": null,
            "width": null
          }
        },
        "707b817056354ed3be4f5b4707d8dc93": {
          "model_module": "@jupyter-widgets/base",
          "model_name": "LayoutModel",
          "model_module_version": "1.2.0",
          "state": {
            "_model_module": "@jupyter-widgets/base",
            "_model_module_version": "1.2.0",
            "_model_name": "LayoutModel",
            "_view_count": null,
            "_view_module": "@jupyter-widgets/base",
            "_view_module_version": "1.2.0",
            "_view_name": "LayoutView",
            "align_content": null,
            "align_items": null,
            "align_self": null,
            "border": null,
            "bottom": null,
            "display": null,
            "flex": null,
            "flex_flow": null,
            "grid_area": null,
            "grid_auto_columns": null,
            "grid_auto_flow": null,
            "grid_auto_rows": null,
            "grid_column": null,
            "grid_gap": null,
            "grid_row": null,
            "grid_template_areas": null,
            "grid_template_columns": null,
            "grid_template_rows": null,
            "height": null,
            "justify_content": null,
            "justify_items": null,
            "left": null,
            "margin": null,
            "max_height": null,
            "max_width": null,
            "min_height": null,
            "min_width": null,
            "object_fit": null,
            "object_position": null,
            "order": null,
            "overflow": null,
            "overflow_x": null,
            "overflow_y": null,
            "padding": null,
            "right": null,
            "top": null,
            "visibility": null,
            "width": null
          }
        },
        "8229d8e2d7eb4752b672de3bce18c3fc": {
          "model_module": "@jupyter-widgets/controls",
          "model_name": "DescriptionStyleModel",
          "model_module_version": "1.5.0",
          "state": {
            "_model_module": "@jupyter-widgets/controls",
            "_model_module_version": "1.5.0",
            "_model_name": "DescriptionStyleModel",
            "_view_count": null,
            "_view_module": "@jupyter-widgets/base",
            "_view_module_version": "1.2.0",
            "_view_name": "StyleView",
            "description_width": ""
          }
        },
        "6063252a50c745f39d6d2944889bc092": {
          "model_module": "@jupyter-widgets/base",
          "model_name": "LayoutModel",
          "model_module_version": "1.2.0",
          "state": {
            "_model_module": "@jupyter-widgets/base",
            "_model_module_version": "1.2.0",
            "_model_name": "LayoutModel",
            "_view_count": null,
            "_view_module": "@jupyter-widgets/base",
            "_view_module_version": "1.2.0",
            "_view_name": "LayoutView",
            "align_content": null,
            "align_items": null,
            "align_self": null,
            "border": null,
            "bottom": null,
            "display": null,
            "flex": null,
            "flex_flow": null,
            "grid_area": null,
            "grid_auto_columns": null,
            "grid_auto_flow": null,
            "grid_auto_rows": null,
            "grid_column": null,
            "grid_gap": null,
            "grid_row": null,
            "grid_template_areas": null,
            "grid_template_columns": null,
            "grid_template_rows": null,
            "height": null,
            "justify_content": null,
            "justify_items": null,
            "left": null,
            "margin": null,
            "max_height": null,
            "max_width": null,
            "min_height": null,
            "min_width": null,
            "object_fit": null,
            "object_position": null,
            "order": null,
            "overflow": null,
            "overflow_x": null,
            "overflow_y": null,
            "padding": null,
            "right": null,
            "top": null,
            "visibility": null,
            "width": null
          }
        },
        "a912d211cdc34e70857957e3fded9cac": {
          "model_module": "@jupyter-widgets/controls",
          "model_name": "ProgressStyleModel",
          "model_module_version": "1.5.0",
          "state": {
            "_model_module": "@jupyter-widgets/controls",
            "_model_module_version": "1.5.0",
            "_model_name": "ProgressStyleModel",
            "_view_count": null,
            "_view_module": "@jupyter-widgets/base",
            "_view_module_version": "1.2.0",
            "_view_name": "StyleView",
            "bar_color": null,
            "description_width": ""
          }
        },
        "cddce4eba7694d0e8db492f55fd083b2": {
          "model_module": "@jupyter-widgets/base",
          "model_name": "LayoutModel",
          "model_module_version": "1.2.0",
          "state": {
            "_model_module": "@jupyter-widgets/base",
            "_model_module_version": "1.2.0",
            "_model_name": "LayoutModel",
            "_view_count": null,
            "_view_module": "@jupyter-widgets/base",
            "_view_module_version": "1.2.0",
            "_view_name": "LayoutView",
            "align_content": null,
            "align_items": null,
            "align_self": null,
            "border": null,
            "bottom": null,
            "display": null,
            "flex": null,
            "flex_flow": null,
            "grid_area": null,
            "grid_auto_columns": null,
            "grid_auto_flow": null,
            "grid_auto_rows": null,
            "grid_column": null,
            "grid_gap": null,
            "grid_row": null,
            "grid_template_areas": null,
            "grid_template_columns": null,
            "grid_template_rows": null,
            "height": null,
            "justify_content": null,
            "justify_items": null,
            "left": null,
            "margin": null,
            "max_height": null,
            "max_width": null,
            "min_height": null,
            "min_width": null,
            "object_fit": null,
            "object_position": null,
            "order": null,
            "overflow": null,
            "overflow_x": null,
            "overflow_y": null,
            "padding": null,
            "right": null,
            "top": null,
            "visibility": null,
            "width": null
          }
        },
        "e229793202f241e5b3fb6a3ae73741f6": {
          "model_module": "@jupyter-widgets/controls",
          "model_name": "DescriptionStyleModel",
          "model_module_version": "1.5.0",
          "state": {
            "_model_module": "@jupyter-widgets/controls",
            "_model_module_version": "1.5.0",
            "_model_name": "DescriptionStyleModel",
            "_view_count": null,
            "_view_module": "@jupyter-widgets/base",
            "_view_module_version": "1.2.0",
            "_view_name": "StyleView",
            "description_width": ""
          }
        },
        "137c2f3a84384436828fedda77519793": {
          "model_module": "@jupyter-widgets/controls",
          "model_name": "HBoxModel",
          "model_module_version": "1.5.0",
          "state": {
            "_dom_classes": [],
            "_model_module": "@jupyter-widgets/controls",
            "_model_module_version": "1.5.0",
            "_model_name": "HBoxModel",
            "_view_count": null,
            "_view_module": "@jupyter-widgets/controls",
            "_view_module_version": "1.5.0",
            "_view_name": "HBoxView",
            "box_style": "",
            "children": [
              "IPY_MODEL_00d51c15d0e34c3c9d18308534202632",
              "IPY_MODEL_8b64166f491645cf87e1c821f1477902",
              "IPY_MODEL_1f27f16468a8472fbc2080de95c6cb83"
            ],
            "layout": "IPY_MODEL_fb908355e6614d07b359d244bb3dc023"
          }
        },
        "00d51c15d0e34c3c9d18308534202632": {
          "model_module": "@jupyter-widgets/controls",
          "model_name": "HTMLModel",
          "model_module_version": "1.5.0",
          "state": {
            "_dom_classes": [],
            "_model_module": "@jupyter-widgets/controls",
            "_model_module_version": "1.5.0",
            "_model_name": "HTMLModel",
            "_view_count": null,
            "_view_module": "@jupyter-widgets/controls",
            "_view_module_version": "1.5.0",
            "_view_name": "HTMLView",
            "description": "",
            "description_tooltip": null,
            "layout": "IPY_MODEL_0ddc0afef7b54388b6e49e5f87a574e3",
            "placeholder": "​",
            "style": "IPY_MODEL_b8efc92a706e4ca29b33c59813382bf9",
            "value": "Extracting data files: 100%"
          }
        },
        "8b64166f491645cf87e1c821f1477902": {
          "model_module": "@jupyter-widgets/controls",
          "model_name": "FloatProgressModel",
          "model_module_version": "1.5.0",
          "state": {
            "_dom_classes": [],
            "_model_module": "@jupyter-widgets/controls",
            "_model_module_version": "1.5.0",
            "_model_name": "FloatProgressModel",
            "_view_count": null,
            "_view_module": "@jupyter-widgets/controls",
            "_view_module_version": "1.5.0",
            "_view_name": "ProgressView",
            "bar_style": "success",
            "description": "",
            "description_tooltip": null,
            "layout": "IPY_MODEL_93e3b67426f84769b353fc0cff030481",
            "max": 1,
            "min": 0,
            "orientation": "horizontal",
            "style": "IPY_MODEL_85f9bf5973d24568b6654f8a862b6549",
            "value": 1
          }
        },
        "1f27f16468a8472fbc2080de95c6cb83": {
          "model_module": "@jupyter-widgets/controls",
          "model_name": "HTMLModel",
          "model_module_version": "1.5.0",
          "state": {
            "_dom_classes": [],
            "_model_module": "@jupyter-widgets/controls",
            "_model_module_version": "1.5.0",
            "_model_name": "HTMLModel",
            "_view_count": null,
            "_view_module": "@jupyter-widgets/controls",
            "_view_module_version": "1.5.0",
            "_view_name": "HTMLView",
            "description": "",
            "description_tooltip": null,
            "layout": "IPY_MODEL_72137ff483534f92bc956a6e3fa4eba2",
            "placeholder": "​",
            "style": "IPY_MODEL_39e4544aa2c04a2d835e62d2b8e969fa",
            "value": " 1/1 [00:00&lt;00:00, 28.64it/s]"
          }
        },
        "fb908355e6614d07b359d244bb3dc023": {
          "model_module": "@jupyter-widgets/base",
          "model_name": "LayoutModel",
          "model_module_version": "1.2.0",
          "state": {
            "_model_module": "@jupyter-widgets/base",
            "_model_module_version": "1.2.0",
            "_model_name": "LayoutModel",
            "_view_count": null,
            "_view_module": "@jupyter-widgets/base",
            "_view_module_version": "1.2.0",
            "_view_name": "LayoutView",
            "align_content": null,
            "align_items": null,
            "align_self": null,
            "border": null,
            "bottom": null,
            "display": null,
            "flex": null,
            "flex_flow": null,
            "grid_area": null,
            "grid_auto_columns": null,
            "grid_auto_flow": null,
            "grid_auto_rows": null,
            "grid_column": null,
            "grid_gap": null,
            "grid_row": null,
            "grid_template_areas": null,
            "grid_template_columns": null,
            "grid_template_rows": null,
            "height": null,
            "justify_content": null,
            "justify_items": null,
            "left": null,
            "margin": null,
            "max_height": null,
            "max_width": null,
            "min_height": null,
            "min_width": null,
            "object_fit": null,
            "object_position": null,
            "order": null,
            "overflow": null,
            "overflow_x": null,
            "overflow_y": null,
            "padding": null,
            "right": null,
            "top": null,
            "visibility": null,
            "width": null
          }
        },
        "0ddc0afef7b54388b6e49e5f87a574e3": {
          "model_module": "@jupyter-widgets/base",
          "model_name": "LayoutModel",
          "model_module_version": "1.2.0",
          "state": {
            "_model_module": "@jupyter-widgets/base",
            "_model_module_version": "1.2.0",
            "_model_name": "LayoutModel",
            "_view_count": null,
            "_view_module": "@jupyter-widgets/base",
            "_view_module_version": "1.2.0",
            "_view_name": "LayoutView",
            "align_content": null,
            "align_items": null,
            "align_self": null,
            "border": null,
            "bottom": null,
            "display": null,
            "flex": null,
            "flex_flow": null,
            "grid_area": null,
            "grid_auto_columns": null,
            "grid_auto_flow": null,
            "grid_auto_rows": null,
            "grid_column": null,
            "grid_gap": null,
            "grid_row": null,
            "grid_template_areas": null,
            "grid_template_columns": null,
            "grid_template_rows": null,
            "height": null,
            "justify_content": null,
            "justify_items": null,
            "left": null,
            "margin": null,
            "max_height": null,
            "max_width": null,
            "min_height": null,
            "min_width": null,
            "object_fit": null,
            "object_position": null,
            "order": null,
            "overflow": null,
            "overflow_x": null,
            "overflow_y": null,
            "padding": null,
            "right": null,
            "top": null,
            "visibility": null,
            "width": null
          }
        },
        "b8efc92a706e4ca29b33c59813382bf9": {
          "model_module": "@jupyter-widgets/controls",
          "model_name": "DescriptionStyleModel",
          "model_module_version": "1.5.0",
          "state": {
            "_model_module": "@jupyter-widgets/controls",
            "_model_module_version": "1.5.0",
            "_model_name": "DescriptionStyleModel",
            "_view_count": null,
            "_view_module": "@jupyter-widgets/base",
            "_view_module_version": "1.2.0",
            "_view_name": "StyleView",
            "description_width": ""
          }
        },
        "93e3b67426f84769b353fc0cff030481": {
          "model_module": "@jupyter-widgets/base",
          "model_name": "LayoutModel",
          "model_module_version": "1.2.0",
          "state": {
            "_model_module": "@jupyter-widgets/base",
            "_model_module_version": "1.2.0",
            "_model_name": "LayoutModel",
            "_view_count": null,
            "_view_module": "@jupyter-widgets/base",
            "_view_module_version": "1.2.0",
            "_view_name": "LayoutView",
            "align_content": null,
            "align_items": null,
            "align_self": null,
            "border": null,
            "bottom": null,
            "display": null,
            "flex": null,
            "flex_flow": null,
            "grid_area": null,
            "grid_auto_columns": null,
            "grid_auto_flow": null,
            "grid_auto_rows": null,
            "grid_column": null,
            "grid_gap": null,
            "grid_row": null,
            "grid_template_areas": null,
            "grid_template_columns": null,
            "grid_template_rows": null,
            "height": null,
            "justify_content": null,
            "justify_items": null,
            "left": null,
            "margin": null,
            "max_height": null,
            "max_width": null,
            "min_height": null,
            "min_width": null,
            "object_fit": null,
            "object_position": null,
            "order": null,
            "overflow": null,
            "overflow_x": null,
            "overflow_y": null,
            "padding": null,
            "right": null,
            "top": null,
            "visibility": null,
            "width": null
          }
        },
        "85f9bf5973d24568b6654f8a862b6549": {
          "model_module": "@jupyter-widgets/controls",
          "model_name": "ProgressStyleModel",
          "model_module_version": "1.5.0",
          "state": {
            "_model_module": "@jupyter-widgets/controls",
            "_model_module_version": "1.5.0",
            "_model_name": "ProgressStyleModel",
            "_view_count": null,
            "_view_module": "@jupyter-widgets/base",
            "_view_module_version": "1.2.0",
            "_view_name": "StyleView",
            "bar_color": null,
            "description_width": ""
          }
        },
        "72137ff483534f92bc956a6e3fa4eba2": {
          "model_module": "@jupyter-widgets/base",
          "model_name": "LayoutModel",
          "model_module_version": "1.2.0",
          "state": {
            "_model_module": "@jupyter-widgets/base",
            "_model_module_version": "1.2.0",
            "_model_name": "LayoutModel",
            "_view_count": null,
            "_view_module": "@jupyter-widgets/base",
            "_view_module_version": "1.2.0",
            "_view_name": "LayoutView",
            "align_content": null,
            "align_items": null,
            "align_self": null,
            "border": null,
            "bottom": null,
            "display": null,
            "flex": null,
            "flex_flow": null,
            "grid_area": null,
            "grid_auto_columns": null,
            "grid_auto_flow": null,
            "grid_auto_rows": null,
            "grid_column": null,
            "grid_gap": null,
            "grid_row": null,
            "grid_template_areas": null,
            "grid_template_columns": null,
            "grid_template_rows": null,
            "height": null,
            "justify_content": null,
            "justify_items": null,
            "left": null,
            "margin": null,
            "max_height": null,
            "max_width": null,
            "min_height": null,
            "min_width": null,
            "object_fit": null,
            "object_position": null,
            "order": null,
            "overflow": null,
            "overflow_x": null,
            "overflow_y": null,
            "padding": null,
            "right": null,
            "top": null,
            "visibility": null,
            "width": null
          }
        },
        "39e4544aa2c04a2d835e62d2b8e969fa": {
          "model_module": "@jupyter-widgets/controls",
          "model_name": "DescriptionStyleModel",
          "model_module_version": "1.5.0",
          "state": {
            "_model_module": "@jupyter-widgets/controls",
            "_model_module_version": "1.5.0",
            "_model_name": "DescriptionStyleModel",
            "_view_count": null,
            "_view_module": "@jupyter-widgets/base",
            "_view_module_version": "1.2.0",
            "_view_name": "StyleView",
            "description_width": ""
          }
        },
        "7f0d3130c0b74a9cba9cc6d1b6044e66": {
          "model_module": "@jupyter-widgets/controls",
          "model_name": "HBoxModel",
          "model_module_version": "1.5.0",
          "state": {
            "_dom_classes": [],
            "_model_module": "@jupyter-widgets/controls",
            "_model_module_version": "1.5.0",
            "_model_name": "HBoxModel",
            "_view_count": null,
            "_view_module": "@jupyter-widgets/controls",
            "_view_module_version": "1.5.0",
            "_view_name": "HBoxView",
            "box_style": "",
            "children": [
              "IPY_MODEL_f5f53b17b6954f9ca31e2c1a627aa11e",
              "IPY_MODEL_2845d5da3e7542438d9395427921744a",
              "IPY_MODEL_59d516504ee3413b880990dfe9d4d0f7"
            ],
            "layout": "IPY_MODEL_ee7b359f9cd6455384d7f4b8af531ed8"
          }
        },
        "f5f53b17b6954f9ca31e2c1a627aa11e": {
          "model_module": "@jupyter-widgets/controls",
          "model_name": "HTMLModel",
          "model_module_version": "1.5.0",
          "state": {
            "_dom_classes": [],
            "_model_module": "@jupyter-widgets/controls",
            "_model_module_version": "1.5.0",
            "_model_name": "HTMLModel",
            "_view_count": null,
            "_view_module": "@jupyter-widgets/controls",
            "_view_module_version": "1.5.0",
            "_view_name": "HTMLView",
            "description": "",
            "description_tooltip": null,
            "layout": "IPY_MODEL_8715c9d1a87844bb8c6c52b15f3cb5b7",
            "placeholder": "​",
            "style": "IPY_MODEL_7cdd54a37faf4e8fa75a566b21de569e",
            "value": "Generating train split: 100%"
          }
        },
        "2845d5da3e7542438d9395427921744a": {
          "model_module": "@jupyter-widgets/controls",
          "model_name": "FloatProgressModel",
          "model_module_version": "1.5.0",
          "state": {
            "_dom_classes": [],
            "_model_module": "@jupyter-widgets/controls",
            "_model_module_version": "1.5.0",
            "_model_name": "FloatProgressModel",
            "_view_count": null,
            "_view_module": "@jupyter-widgets/controls",
            "_view_module_version": "1.5.0",
            "_view_name": "ProgressView",
            "bar_style": "success",
            "description": "",
            "description_tooltip": null,
            "layout": "IPY_MODEL_44eebc0be3d544b9928a1fc48f82cd6b",
            "max": 93470,
            "min": 0,
            "orientation": "horizontal",
            "style": "IPY_MODEL_9e8f8823cb2644bba2b744f21058ab62",
            "value": 93470
          }
        },
        "59d516504ee3413b880990dfe9d4d0f7": {
          "model_module": "@jupyter-widgets/controls",
          "model_name": "HTMLModel",
          "model_module_version": "1.5.0",
          "state": {
            "_dom_classes": [],
            "_model_module": "@jupyter-widgets/controls",
            "_model_module_version": "1.5.0",
            "_model_name": "HTMLModel",
            "_view_count": null,
            "_view_module": "@jupyter-widgets/controls",
            "_view_module_version": "1.5.0",
            "_view_name": "HTMLView",
            "description": "",
            "description_tooltip": null,
            "layout": "IPY_MODEL_0fb86651783a4895a1ab8174cc0882ef",
            "placeholder": "​",
            "style": "IPY_MODEL_5a896ef6a208422fac539b66ba163485",
            "value": " 93470/93470 [00:00&lt;00:00, 351324.70 examples/s]"
          }
        },
        "ee7b359f9cd6455384d7f4b8af531ed8": {
          "model_module": "@jupyter-widgets/base",
          "model_name": "LayoutModel",
          "model_module_version": "1.2.0",
          "state": {
            "_model_module": "@jupyter-widgets/base",
            "_model_module_version": "1.2.0",
            "_model_name": "LayoutModel",
            "_view_count": null,
            "_view_module": "@jupyter-widgets/base",
            "_view_module_version": "1.2.0",
            "_view_name": "LayoutView",
            "align_content": null,
            "align_items": null,
            "align_self": null,
            "border": null,
            "bottom": null,
            "display": null,
            "flex": null,
            "flex_flow": null,
            "grid_area": null,
            "grid_auto_columns": null,
            "grid_auto_flow": null,
            "grid_auto_rows": null,
            "grid_column": null,
            "grid_gap": null,
            "grid_row": null,
            "grid_template_areas": null,
            "grid_template_columns": null,
            "grid_template_rows": null,
            "height": null,
            "justify_content": null,
            "justify_items": null,
            "left": null,
            "margin": null,
            "max_height": null,
            "max_width": null,
            "min_height": null,
            "min_width": null,
            "object_fit": null,
            "object_position": null,
            "order": null,
            "overflow": null,
            "overflow_x": null,
            "overflow_y": null,
            "padding": null,
            "right": null,
            "top": null,
            "visibility": null,
            "width": null
          }
        },
        "8715c9d1a87844bb8c6c52b15f3cb5b7": {
          "model_module": "@jupyter-widgets/base",
          "model_name": "LayoutModel",
          "model_module_version": "1.2.0",
          "state": {
            "_model_module": "@jupyter-widgets/base",
            "_model_module_version": "1.2.0",
            "_model_name": "LayoutModel",
            "_view_count": null,
            "_view_module": "@jupyter-widgets/base",
            "_view_module_version": "1.2.0",
            "_view_name": "LayoutView",
            "align_content": null,
            "align_items": null,
            "align_self": null,
            "border": null,
            "bottom": null,
            "display": null,
            "flex": null,
            "flex_flow": null,
            "grid_area": null,
            "grid_auto_columns": null,
            "grid_auto_flow": null,
            "grid_auto_rows": null,
            "grid_column": null,
            "grid_gap": null,
            "grid_row": null,
            "grid_template_areas": null,
            "grid_template_columns": null,
            "grid_template_rows": null,
            "height": null,
            "justify_content": null,
            "justify_items": null,
            "left": null,
            "margin": null,
            "max_height": null,
            "max_width": null,
            "min_height": null,
            "min_width": null,
            "object_fit": null,
            "object_position": null,
            "order": null,
            "overflow": null,
            "overflow_x": null,
            "overflow_y": null,
            "padding": null,
            "right": null,
            "top": null,
            "visibility": null,
            "width": null
          }
        },
        "7cdd54a37faf4e8fa75a566b21de569e": {
          "model_module": "@jupyter-widgets/controls",
          "model_name": "DescriptionStyleModel",
          "model_module_version": "1.5.0",
          "state": {
            "_model_module": "@jupyter-widgets/controls",
            "_model_module_version": "1.5.0",
            "_model_name": "DescriptionStyleModel",
            "_view_count": null,
            "_view_module": "@jupyter-widgets/base",
            "_view_module_version": "1.2.0",
            "_view_name": "StyleView",
            "description_width": ""
          }
        },
        "44eebc0be3d544b9928a1fc48f82cd6b": {
          "model_module": "@jupyter-widgets/base",
          "model_name": "LayoutModel",
          "model_module_version": "1.2.0",
          "state": {
            "_model_module": "@jupyter-widgets/base",
            "_model_module_version": "1.2.0",
            "_model_name": "LayoutModel",
            "_view_count": null,
            "_view_module": "@jupyter-widgets/base",
            "_view_module_version": "1.2.0",
            "_view_name": "LayoutView",
            "align_content": null,
            "align_items": null,
            "align_self": null,
            "border": null,
            "bottom": null,
            "display": null,
            "flex": null,
            "flex_flow": null,
            "grid_area": null,
            "grid_auto_columns": null,
            "grid_auto_flow": null,
            "grid_auto_rows": null,
            "grid_column": null,
            "grid_gap": null,
            "grid_row": null,
            "grid_template_areas": null,
            "grid_template_columns": null,
            "grid_template_rows": null,
            "height": null,
            "justify_content": null,
            "justify_items": null,
            "left": null,
            "margin": null,
            "max_height": null,
            "max_width": null,
            "min_height": null,
            "min_width": null,
            "object_fit": null,
            "object_position": null,
            "order": null,
            "overflow": null,
            "overflow_x": null,
            "overflow_y": null,
            "padding": null,
            "right": null,
            "top": null,
            "visibility": null,
            "width": null
          }
        },
        "9e8f8823cb2644bba2b744f21058ab62": {
          "model_module": "@jupyter-widgets/controls",
          "model_name": "ProgressStyleModel",
          "model_module_version": "1.5.0",
          "state": {
            "_model_module": "@jupyter-widgets/controls",
            "_model_module_version": "1.5.0",
            "_model_name": "ProgressStyleModel",
            "_view_count": null,
            "_view_module": "@jupyter-widgets/base",
            "_view_module_version": "1.2.0",
            "_view_name": "StyleView",
            "bar_color": null,
            "description_width": ""
          }
        },
        "0fb86651783a4895a1ab8174cc0882ef": {
          "model_module": "@jupyter-widgets/base",
          "model_name": "LayoutModel",
          "model_module_version": "1.2.0",
          "state": {
            "_model_module": "@jupyter-widgets/base",
            "_model_module_version": "1.2.0",
            "_model_name": "LayoutModel",
            "_view_count": null,
            "_view_module": "@jupyter-widgets/base",
            "_view_module_version": "1.2.0",
            "_view_name": "LayoutView",
            "align_content": null,
            "align_items": null,
            "align_self": null,
            "border": null,
            "bottom": null,
            "display": null,
            "flex": null,
            "flex_flow": null,
            "grid_area": null,
            "grid_auto_columns": null,
            "grid_auto_flow": null,
            "grid_auto_rows": null,
            "grid_column": null,
            "grid_gap": null,
            "grid_row": null,
            "grid_template_areas": null,
            "grid_template_columns": null,
            "grid_template_rows": null,
            "height": null,
            "justify_content": null,
            "justify_items": null,
            "left": null,
            "margin": null,
            "max_height": null,
            "max_width": null,
            "min_height": null,
            "min_width": null,
            "object_fit": null,
            "object_position": null,
            "order": null,
            "overflow": null,
            "overflow_x": null,
            "overflow_y": null,
            "padding": null,
            "right": null,
            "top": null,
            "visibility": null,
            "width": null
          }
        },
        "5a896ef6a208422fac539b66ba163485": {
          "model_module": "@jupyter-widgets/controls",
          "model_name": "DescriptionStyleModel",
          "model_module_version": "1.5.0",
          "state": {
            "_model_module": "@jupyter-widgets/controls",
            "_model_module_version": "1.5.0",
            "_model_name": "DescriptionStyleModel",
            "_view_count": null,
            "_view_module": "@jupyter-widgets/base",
            "_view_module_version": "1.2.0",
            "_view_name": "StyleView",
            "description_width": ""
          }
        }
      }
    }
  },
  "cells": [
    {
      "cell_type": "code",
      "source": [
        "!pip install torch==2.0.1 torchvision==0.15.2 torchaudio==2.0.2 torchtext==0.15.2 datasets==2.15.0 tokenizers==0.13.3 torchmetrics==1.0.3 tensorboard==2.13.0 altair==5.1.1 torchmetrics"
      ],
      "metadata": {
        "id": "RkVobldlZfsI"
      },
      "execution_count": null,
      "outputs": []
    },
    {
      "cell_type": "code",
      "source": [
        "%run /content/train.py"
      ],
      "metadata": {
        "colab": {
          "base_uri": "https://localhost:8080/",
          "height": 1000,
          "referenced_widgets": [
            "0e5bd3e3773b4b72a32de13e2ecdcd45",
            "e3550e03e3e74fde8126dcfa333f9701",
            "faf1398d0ef349249ea4aa464843010e",
            "780b7df2c1cb4769bdaf7dc13c845f3f",
            "f0b6a35e29a14fa2b80ac347504c85fa",
            "9d836377ab9a401e8946cba870dd1d6f",
            "0bb85459093748ce8f769240b52c3383",
            "34e89eee89fb4dc395e1d1d49d31a3bd",
            "c4ce12a610e34ea39094c742f494b0e2",
            "5ad4a161fe8b46448a964a7513dad928",
            "a5a41649c2c7410994bf7874509f9cfd",
            "76d6393f2c894fd5b58652336f3c4746",
            "76c5247b66b7440b9a4304e6dd55137d",
            "27550b9dd5094a30bc807d0016677882",
            "dbec285f3244417fb71a4cbe0ca14db8",
            "c2266b0dedf54517a0441a3b6ce25b31",
            "cfcc513e812642bd93ef2d0ac4d32cc4",
            "aedabc7d5c634982a4e372b8d237d98a",
            "c89713a7f22c4df3aba9ead3cb7b2272",
            "62da68fed0bd45bc9114ba0d66c1dff7",
            "7b0e1c2043dd42c2b512821f297f149f",
            "4ef7258726ec4f1cb91b6a8bcf314170",
            "068bc8b8a45244bca288e0024dc01384",
            "b0fd061be26f4b74b81a4d8d734f5188",
            "31e81bbbbc9c4269bf8517c5d9c7c593",
            "88fb6d5263c94ab38e1ea36bb01da2cb",
            "2c23aaf2b81544a8810188edaa05d24e",
            "707b817056354ed3be4f5b4707d8dc93",
            "8229d8e2d7eb4752b672de3bce18c3fc",
            "6063252a50c745f39d6d2944889bc092",
            "a912d211cdc34e70857957e3fded9cac",
            "cddce4eba7694d0e8db492f55fd083b2",
            "e229793202f241e5b3fb6a3ae73741f6",
            "137c2f3a84384436828fedda77519793",
            "00d51c15d0e34c3c9d18308534202632",
            "8b64166f491645cf87e1c821f1477902",
            "1f27f16468a8472fbc2080de95c6cb83",
            "fb908355e6614d07b359d244bb3dc023",
            "0ddc0afef7b54388b6e49e5f87a574e3",
            "b8efc92a706e4ca29b33c59813382bf9",
            "93e3b67426f84769b353fc0cff030481",
            "85f9bf5973d24568b6654f8a862b6549",
            "72137ff483534f92bc956a6e3fa4eba2",
            "39e4544aa2c04a2d835e62d2b8e969fa",
            "7f0d3130c0b74a9cba9cc6d1b6044e66",
            "f5f53b17b6954f9ca31e2c1a627aa11e",
            "2845d5da3e7542438d9395427921744a",
            "59d516504ee3413b880990dfe9d4d0f7",
            "ee7b359f9cd6455384d7f4b8af531ed8",
            "8715c9d1a87844bb8c6c52b15f3cb5b7",
            "7cdd54a37faf4e8fa75a566b21de569e",
            "44eebc0be3d544b9928a1fc48f82cd6b",
            "9e8f8823cb2644bba2b744f21058ab62",
            "0fb86651783a4895a1ab8174cc0882ef",
            "5a896ef6a208422fac539b66ba163485"
          ]
        },
        "id": "CMq79442ZK29",
        "outputId": "4de6eedc-061d-4d10-fb9a-c9ffdd683454"
      },
      "execution_count": null,
      "outputs": [
        {
          "metadata": {
            "tags": null
          },
          "name": "stdout",
          "output_type": "stream",
          "text": [
            "Using device: cuda\n",
            "Device name: Tesla T4\n",
            "Device memory: 14.74810791015625 GB\n"
          ]
        },
        {
          "data": {
            "application/vnd.jupyter.widget-view+json": {
              "model_id": "0e5bd3e3773b4b72a32de13e2ecdcd45",
              "version_major": 2,
              "version_minor": 0
            },
            "text/plain": [
              "Downloading readme:   0%|          | 0.00/25.2k [00:00<?, ?B/s]"
            ]
          },
          "metadata": {},
          "output_type": "display_data"
        },
        {
          "data": {
            "application/vnd.jupyter.widget-view+json": {
              "model_id": "76d6393f2c894fd5b58652336f3c4746",
              "version_major": 2,
              "version_minor": 0
            },
            "text/plain": [
              "Downloading data files:   0%|          | 0/1 [00:00<?, ?it/s]"
            ]
          },
          "metadata": {},
          "output_type": "display_data"
        },
        {
          "data": {
            "application/vnd.jupyter.widget-view+json": {
              "model_id": "068bc8b8a45244bca288e0024dc01384",
              "version_major": 2,
              "version_minor": 0
            },
            "text/plain": [
              "Downloading data:   0%|          | 0.00/16.1M [00:00<?, ?B/s]"
            ]
          },
          "metadata": {},
          "output_type": "display_data"
        },
        {
          "data": {
            "application/vnd.jupyter.widget-view+json": {
              "model_id": "137c2f3a84384436828fedda77519793",
              "version_major": 2,
              "version_minor": 0
            },
            "text/plain": [
              "Extracting data files:   0%|          | 0/1 [00:00<?, ?it/s]"
            ]
          },
          "metadata": {},
          "output_type": "display_data"
        },
        {
          "data": {
            "application/vnd.jupyter.widget-view+json": {
              "model_id": "7f0d3130c0b74a9cba9cc6d1b6044e66",
              "version_major": 2,
              "version_minor": 0
            },
            "text/plain": [
              "Generating train split:   0%|          | 0/93470 [00:00<?, ? examples/s]"
            ]
          },
          "metadata": {},
          "output_type": "display_data"
        },
        {
          "metadata": {
            "tags": null
          },
          "name": "stdout",
          "output_type": "stream",
          "text": [
            "Max length of source sentence: 303\n",
            "Max length of target sentence: 243\n",
            "No model to preload, starting from scratch\n"
          ]
        },
        {
          "metadata": {
            "tags": null
          },
          "name": "stderr",
          "output_type": "stream",
          "text": [
            "Processing Epoch 00: 100%|██████████| 1052/1052 [06:18<00:00,  2.78it/s, loss=5.942]\n"
          ]
        },
        {
          "metadata": {
            "tags": null
          },
          "name": "stdout",
          "output_type": "stream",
          "text": [
            "--------------------------------------------------------------------------------\n",
            "    SOURCE: I forget what it was now, but it was something so droll!\"\n",
            "    TARGET: En este momento no recuerdo qué fue, ¡pero fue algo tan gracioso!\n",
            " PREDICTED: - No me .\n",
            "--------------------------------------------------------------------------------\n",
            "    SOURCE: Her carefulness in guarding her sister from ever hearing Willoughby's name mentioned, was not thrown away.\n",
            "    TARGET: Su cuidado en proteger a su hermana de escuchar el nombre de Willoughby no fue en vano.\n",
            " PREDICTED: La señora de la señora de la señora de la señora de la señora de la señora de la señora de la señora de la señora de la señora de la señora de la señora de la señora de la señora\n",
            "--------------------------------------------------------------------------------\n"
          ]
        },
        {
          "metadata": {
            "tags": null
          },
          "name": "stderr",
          "output_type": "stream",
          "text": [
            "Processing Epoch 01: 100%|██████████| 1052/1052 [06:27<00:00,  2.72it/s, loss=5.825]\n"
          ]
        },
        {
          "metadata": {
            "tags": null
          },
          "name": "stdout",
          "output_type": "stream",
          "text": [
            "--------------------------------------------------------------------------------\n",
            "    SOURCE: I shall devote myself for a time to the examination of the Roman Catholic dogmas, and to a careful study of the workings of their system: if I find it to be, as I half suspect it is, the one best calculated to ensure the doing of all things decently and in order, I shall embrace the tenets of Rome and probably take the veil.\"\n",
            "    TARGET: Quiero dedicar mi tiempo al examen de los dogmas catolicoromanos, y si, como casi supongo, encuentro que son los que mejor permiten hacer las cosas bien y ordenadamente, abrazaré la fe romana y probablemente me haré monja.\n",
            " PREDICTED: , , , a la de la , y a la , y a la de la , y en el .\n",
            "--------------------------------------------------------------------------------\n",
            "    SOURCE: \"Do you know where they came from?\"\n",
            "    TARGET: -¿Sabe de dónde venían?\n",
            " PREDICTED: ¿ Qué ?\n",
            "--------------------------------------------------------------------------------\n"
          ]
        },
        {
          "metadata": {
            "tags": null
          },
          "name": "stderr",
          "output_type": "stream",
          "text": [
            "Processing Epoch 02: 100%|██████████| 1052/1052 [06:27<00:00,  2.72it/s, loss=5.520]\n"
          ]
        },
        {
          "metadata": {
            "tags": null
          },
          "name": "stdout",
          "output_type": "stream",
          "text": [
            "--------------------------------------------------------------------------------\n",
            "    SOURCE: \"Yes, you had better: I always dress for the evening when Mr. Rochester is here.\"\n",
            "    TARGET: -Sí, vale más. Yo siempre me visto por las noches cuando está el señor.\n",
            " PREDICTED: - No , no me en el mundo .\n",
            "--------------------------------------------------------------------------------\n",
            "    SOURCE: Lucy was all exultation on being so honorably distinguished; and Miss Steele wanted only to be teazed about Dr. Davies to be perfectly happy.\n",
            "    TARGET: Lucy era todo júbilo al sentirse tan honrosamente distinguida; y lo único que faltaba a la señorita Steele para alcanzar una perfecta felicidad era que le hicieran alguna broma sobre el reverendo Davies.\n",
            " PREDICTED: Pero no se había sido una de su madre y a su madre , y no podía en su madre .\n",
            "--------------------------------------------------------------------------------\n"
          ]
        },
        {
          "metadata": {
            "tags": null
          },
          "name": "stderr",
          "output_type": "stream",
          "text": [
            "Processing Epoch 03: 100%|██████████| 1052/1052 [06:27<00:00,  2.72it/s, loss=4.927]\n"
          ]
        },
        {
          "metadata": {
            "tags": null
          },
          "name": "stdout",
          "output_type": "stream",
          "text": [
            "--------------------------------------------------------------------------------\n",
            "    SOURCE: \"Are you ill, Miss Dashwood?--you seem low--you don't speak;--sure you an't well.\"\n",
            "    TARGET: ¿Está enferma, señorita Dashwood? Parece abatida, no habla... con toda seguridad no se siente, bien.\n",
            " PREDICTED: -¿ Y qué es usted , señorita ? - preguntó , ¿ no es usted ?\n",
            "--------------------------------------------------------------------------------\n",
            "    SOURCE: Marianne restored to life, health, friends, and to her doting mother, was an idea to fill her heart with sensations of exquisite comfort, and expand it in fervent gratitude;--but it led to no outward demonstrations of joy, no words, no smiles.\n",
            "    TARGET: Marianne devuelta a la vida, a la salud, a los amigos y a su amorosa madre, era una idea que le llenaba el corazón de exquisito consuelo y se lo expandía en fervorosa gratitud; pero no se manifestaba ni en demostraciones externas de alegría, ni en palabras o sonrisas.\n",
            " PREDICTED: Marianne , Marianne , , y su hermana , aunque no había sido , pero no podía ser , pero no podía ser , y no podía ser , pero no podía ser a su hermana , pero no podía ser .\n",
            "--------------------------------------------------------------------------------\n"
          ]
        },
        {
          "metadata": {
            "tags": null
          },
          "name": "stderr",
          "output_type": "stream",
          "text": [
            "Processing Epoch 04: 100%|██████████| 1052/1052 [06:27<00:00,  2.72it/s, loss=4.929]\n"
          ]
        },
        {
          "metadata": {
            "tags": null
          },
          "name": "stdout",
          "output_type": "stream",
          "text": [
            "--------------------------------------------------------------------------------\n",
            "    SOURCE: \"Opportunity!\" repeated Mrs. Jennings--\"Oh! as to that, when a man has once made up his mind to such a thing, somehow or other he will soon find an opportunity.\n",
            "    TARGET: ¡Ah! En cuanto a eso, una vez que un hombre se ha decidido en estas cosas, se las arreglará de una u otra forma para encontrar una oportunidad.\n",
            " PREDICTED: -¡ ! - exclamó la señora Jennings -. ¡ Y qué es una de su madre !\n",
            "--------------------------------------------------------------------------------\n",
            "    SOURCE: No, he had already done that, which no man who CAN feel for another would do.\n",
            "    TARGET: No, ya había hecho aquello que ningún hombre capaz de alguna compasión haría.\n",
            " PREDICTED: No , ni siquiera , ni siquiera siquiera , ni siquiera se .\n",
            "--------------------------------------------------------------------------------\n"
          ]
        },
        {
          "metadata": {
            "tags": null
          },
          "name": "stderr",
          "output_type": "stream",
          "text": [
            "Processing Epoch 05: 100%|██████████| 1052/1052 [06:26<00:00,  2.72it/s, loss=4.394]\n"
          ]
        },
        {
          "metadata": {
            "tags": null
          },
          "name": "stdout",
          "output_type": "stream",
          "text": [
            "--------------------------------------------------------------------------------\n",
            "    SOURCE: Bless me! there's Dent and Lynn in the stables!\n",
            "    TARGET: Dent y Lynn están ya en las cuadras.\n",
            " PREDICTED: ¡ Qué ! - exclamó la voz -.\n",
            "--------------------------------------------------------------------------------\n",
            "    SOURCE: Lady Middleton seemed to be roused to enjoyment only by the entrance of her four noisy children after dinner, who pulled her about, tore her clothes, and put an end to every kind of discourse except what related to themselves.\n",
            "    TARGET: La alegría de lady Middleton sólo pareció brotar después de la cena con la entrada de sus cuatro ruidosos hijos, que la tironearon de aquí allá, desgarraron su ropa y pusieron fin a todo tipo de conversación, salvo la referida a ellos.\n",
            " PREDICTED: La señora Jennings se en la casa de la puerta de la mesa , la de la , la , la de su mirada y la , y el corazón que se en el corazón de su vida .\n",
            "--------------------------------------------------------------------------------\n"
          ]
        },
        {
          "metadata": {
            "tags": null
          },
          "name": "stderr",
          "output_type": "stream",
          "text": [
            "Processing Epoch 06: 100%|██████████| 1052/1052 [06:26<00:00,  2.72it/s, loss=4.783]\n"
          ]
        },
        {
          "metadata": {
            "tags": null
          },
          "name": "stdout",
          "output_type": "stream",
          "text": [
            "--------------------------------------------------------------------------------\n",
            "    SOURCE: Business now began, the day's Collect was repeated, then certain texts of Scripture were said, and to these succeeded a protracted reading of chapters in the Bible, which lasted an hour.\n",
            "    TARGET: Me llamaron a aquella clase y me colocaron detrás de todas. Se repitió la plegaria diaria y se leyeron varios capítulos de la Biblia, en lo que se invirtió más de una hora.\n",
            " PREDICTED: La tarde , la tarde se en el camino , se en el día , y se en el día , se en el día , se en el día .\n",
            "--------------------------------------------------------------------------------\n",
            "    SOURCE: \"In a stationer's shop in Pall Mall, where I had business.\n",
            "    TARGET: -En una tienda de artículos de escritorio en Pall Mall, adonde tuve que ir en la mañana.\n",
            " PREDICTED: - En una mujer de las cosas , me en el mundo .\n",
            "--------------------------------------------------------------------------------\n"
          ]
        },
        {
          "metadata": {
            "tags": null
          },
          "name": "stderr",
          "output_type": "stream",
          "text": [
            "Processing Epoch 07: 100%|██████████| 1052/1052 [06:27<00:00,  2.72it/s, loss=4.350]\n"
          ]
        },
        {
          "metadata": {
            "tags": null
          },
          "name": "stdout",
          "output_type": "stream",
          "text": [
            "--------------------------------------------------------------------------------\n",
            "    SOURCE: ONE person I was sure would represent me as capable of any thing-- What I felt was dreadful!--My resolution was soon made, and at eight o'clock this morning I was in my carriage.\n",
            "    TARGET: ¡Lo que sentí fue atroz! Rápidamente tomé una decisión, y hoy a las ocho de la mañana ya me encontraba en mi carruaje.\n",
            " PREDICTED: Mi pobre hombre fue tan como si hubiera sido tan como lo hubiera sido para mí . y me mi parte mañana .\n",
            "--------------------------------------------------------------------------------\n",
            "    SOURCE: Missis refused: her means have long been much reduced by his extravagance; so he went back again, and the next news was that he was dead.\n",
            "    TARGET: La señora se negó, porque sus bienes han mermado mucho como consecuencia de las locuras de su hijo.\n",
            " PREDICTED: mucho más que se mucho más de su rostro . El día siguiente estaba en el día .\n",
            "--------------------------------------------------------------------------------\n"
          ]
        },
        {
          "metadata": {
            "tags": null
          },
          "name": "stderr",
          "output_type": "stream",
          "text": [
            "Processing Epoch 08: 100%|██████████| 1052/1052 [06:27<00:00,  2.72it/s, loss=4.024]\n"
          ]
        },
        {
          "metadata": {
            "tags": null
          },
          "name": "stdout",
          "output_type": "stream",
          "text": [
            "--------------------------------------------------------------------------------\n",
            "    SOURCE: He then made his bow, and departed with the rest.\n",
            "    TARGET: Tras lo cual hizo una inclinación de cabeza, y se marchó con el resto.\n",
            " PREDICTED: Se le explicó su hermana , y se de inmediato .\n",
            "--------------------------------------------------------------------------------\n",
            "    SOURCE: \"Colonel Brandon give ME a living!--Can it be possible?\"\n",
            "    TARGET: -¡El coronel Brandon me ofrece a mí un beneficio! ¿Es posible, acaso?\n",
            " PREDICTED: -¡ La señorita Dashwood ! ¿ Y qué ?\n",
            "--------------------------------------------------------------------------------\n"
          ]
        },
        {
          "metadata": {
            "tags": null
          },
          "name": "stderr",
          "output_type": "stream",
          "text": [
            "Processing Epoch 09: 100%|██████████| 1052/1052 [06:26<00:00,  2.72it/s, loss=3.447]\n"
          ]
        },
        {
          "metadata": {
            "tags": null
          },
          "name": "stdout",
          "output_type": "stream",
          "text": [
            "--------------------------------------------------------------------------------\n",
            "    SOURCE: In this room, too, there was a cabinet piano, quite new and of superior tone; also an easel for painting and a pair of globes.\n",
            "    TARGET: En la misma habitación había un piano muy bien afinado, un caballete y otros útiles de pintura y dos esferas terráqueas.\n",
            " PREDICTED: En el salón estaba el de un poco y un poco se encontraba en un momento . Se levantó y se en un momento .\n",
            "--------------------------------------------------------------------------------\n",
            "    SOURCE: Here, however, Elinor perceived,--not the language, not the professions of Colonel Brandon, but the natural embellishments of her mother's active fancy, which fashioned every thing delightful to her as it chose. \"His regard for her, infinitely surpassing anything that Willoughby ever felt or feigned, as much more warm, as more sincere or constant--which ever we are to call it--has subsisted through all the knowledge of dear Marianne's unhappy prepossession for that worthless young man!--and without selfishness--without encouraging a hope!--could he have seen her happy with another--Such a noble mind!--such openness, such sincerity!--no one can be deceived in HIM.\"\n",
            "    TARGET: En esto, sin embargo, Elinor percibió no el lenguaje, no las declaraciones del coronel Brandon, sino los adornos con que su madre solía enriquecer todo aquello que la deleitaba, amoldándolo a su propia infatigable fantasía. -Su afecto por ella, que sobrepasa infinitamente todo lo que Willoughby sintió o fingió, mucho más cálido, más sincero, más constante, como sea que lo llamemos, ¡ha subsistido incluso al conocimiento de la desdichada predilección de Marianne por aquel joven despreciable! ¡Y sin egoísmos, sin alimentar esperanzas!\n",
            " PREDICTED: En verdad , sin embargo , no nada sino el coronel Brandon , sino el coronel Brandon , sino el coronel Brandon , sino el de su madre , por su madre , a su madre , ; pero en todo el momento de que a Marianne , ¡ y en verdad ! Pero su madre , en verdad es imposible tener un cambio en todo el momento de que de todo el momento no puede ser de todo el caso de todo el caso de todo lo que es que el caso de , y en verdad , por el caso de todo el momento .\n",
            "--------------------------------------------------------------------------------\n"
          ]
        },
        {
          "metadata": {
            "tags": null
          },
          "name": "stderr",
          "output_type": "stream",
          "text": [
            "Processing Epoch 10: 100%|██████████| 1052/1052 [06:27<00:00,  2.72it/s, loss=3.998]\n"
          ]
        },
        {
          "metadata": {
            "tags": null
          },
          "name": "stdout",
          "output_type": "stream",
          "text": [
            "--------------------------------------------------------------------------------\n",
            "    SOURCE: I have an inward treasure born with me, which can keep me alive if all extraneous delights should be withheld, or offered only at a price I cannot afford to give.'\n",
            "    TARGET: En la frente se lee: \"Mi razón es sólida y no permitirá a los sentimientos entregarse a sus desordenadas pasiones.\n",
            " PREDICTED: Me parece que me y si no puedo vivir ni una palabra , si no es una palabra que no puedo .\n",
            "--------------------------------------------------------------------------------\n",
            "    SOURCE: Yet, he must leave them at the end of a week, in spite of their wishes and his own, and without any restraint on his time.\n",
            "    TARGET: Y aun así debía dejarlas a fines de esa semana, a pesar de los deseos de ambas partes y sin ninguna restricción en su tiempo.\n",
            " PREDICTED: Sin duda se a una semana después de la semana , se por su partida , y sin ninguna duda sin duda sin duda .\n",
            "--------------------------------------------------------------------------------\n"
          ]
        },
        {
          "metadata": {
            "tags": null
          },
          "name": "stderr",
          "output_type": "stream",
          "text": [
            "Processing Epoch 11: 100%|██████████| 1052/1052 [06:27<00:00,  2.72it/s, loss=3.566]\n"
          ]
        },
        {
          "metadata": {
            "tags": null
          },
          "name": "stdout",
          "output_type": "stream",
          "text": [
            "--------------------------------------------------------------------------------\n",
            "    SOURCE: I beckoned it to come near me; it stood soon at my knee.\n",
            "    TARGET: Se acercó y se sentó en mis rodillas.\n",
            " PREDICTED: Me levanté y me acerqué a mi lado .\n",
            "--------------------------------------------------------------------------------\n",
            "    SOURCE: \"But Miss Temple is the best--isn't she?\"\n",
            "    TARGET: -Pero Miss Temple es mejor que todas, ¿no?\n",
            " PREDICTED: - Pero ¿ no es la ?\n",
            "--------------------------------------------------------------------------------\n"
          ]
        },
        {
          "metadata": {
            "tags": null
          },
          "name": "stderr",
          "output_type": "stream",
          "text": [
            "Processing Epoch 12: 100%|██████████| 1052/1052 [06:27<00:00,  2.72it/s, loss=3.419]\n"
          ]
        },
        {
          "metadata": {
            "tags": null
          },
          "name": "stdout",
          "output_type": "stream",
          "text": [
            "--------------------------------------------------------------------------------\n",
            "    SOURCE: Do you think Mr. Rochester will send for us by-and-bye, after dinner?\"\n",
            "    TARGET: ¿Cree usted que Mr. Rochester nos mandará a buscar después de que terminen de cenar?\n",
            " PREDICTED: ¿ usted a Mr . Rochester ?\n",
            "--------------------------------------------------------------------------------\n",
            "    SOURCE: He would not speak another word to him, meet him where he might, for all the world!\n",
            "    TARGET: ¡Nunca más le dirigiría la palabra, en ningún lugar donde lo encontrara, por nada del mundo!\n",
            " PREDICTED: ¡ No se le daba cuenta de lo que le había hecho , por tanto , de lo que él pudiera ser todo esto !\n",
            "--------------------------------------------------------------------------------\n"
          ]
        },
        {
          "metadata": {
            "tags": null
          },
          "name": "stderr",
          "output_type": "stream",
          "text": [
            "Processing Epoch 13: 100%|██████████| 1052/1052 [06:27<00:00,  2.72it/s, loss=3.096]\n"
          ]
        },
        {
          "metadata": {
            "tags": null
          },
          "name": "stdout",
          "output_type": "stream",
          "text": [
            "--------------------------------------------------------------------------------\n",
            "    SOURCE: \"Don't talk to me about her, John: I told you not to go near her; she is not worthy of notice; I do not choose that either you or your sisters should associate with her.\"\n",
            "    TARGET: Ya te he dicho que no te acerques a ella. No quiero que la tratéis tus hermanas ni tú.\n",
            " PREDICTED: - No se a mí . No sé si no está bien bien ahora .\n",
            "--------------------------------------------------------------------------------\n",
            "    SOURCE: In this state of her spirits, a letter was delivered to her from the post, which contained a proposal particularly well timed.\n",
            "    TARGET: En este estado de ánimo estaba cuando le llegó una carta por correo con una propuesta particularmente oportuna.\n",
            " PREDICTED: En ese momento su mente una carta tan grande , que la había visto en su carta , a la cual su promesa hecha a la señora Dashwood .\n",
            "--------------------------------------------------------------------------------\n"
          ]
        },
        {
          "metadata": {
            "tags": null
          },
          "name": "stderr",
          "output_type": "stream",
          "text": [
            "Processing Epoch 14: 100%|██████████| 1052/1052 [06:27<00:00,  2.72it/s, loss=2.708]\n"
          ]
        },
        {
          "metadata": {
            "tags": null
          },
          "name": "stdout",
          "output_type": "stream",
          "text": [
            "--------------------------------------------------------------------------------\n",
            "    SOURCE: These apprehensions, perhaps, were not founded entirely on reason, and certainly not at all on truth.\n",
            "    TARGET: Las aprensiones de Elinor quizá no se basaban por completo en la razón, y por cierto no en la realidad.\n",
            " PREDICTED: No , que no tanto entre ellos , y de manera por , no el coronel Brandon .\n",
            "--------------------------------------------------------------------------------\n",
            "    SOURCE: As she said this, she approached her tall person and ample garments so near the window, that I was obliged to bend back almost to the breaking of my spine: in her eagerness she did not observe me at first, but when she did, she curled her lip and moved to another casement.\n",
            "    TARGET: ¿Qué habrá sido de esos animales? Mientras hablaba, aproximaba a la ventana de tal modo su alta figura, que tuve que echarme hacia atrás para dejarle sitio, a riesgo de romperme la espina dorsal.\n",
            " PREDICTED: En cuanto a mí me dijo que se de la muerte de mi muerte , que estaba en la ventana , y sin cesar , la cabeza sobre el rostro de mi rostro .\n",
            "--------------------------------------------------------------------------------\n"
          ]
        },
        {
          "metadata": {
            "tags": null
          },
          "name": "stderr",
          "output_type": "stream",
          "text": [
            "Processing Epoch 15: 100%|██████████| 1052/1052 [06:27<00:00,  2.71it/s, loss=3.132]\n"
          ]
        },
        {
          "metadata": {
            "tags": null
          },
          "name": "stdout",
          "output_type": "stream",
          "text": [
            "--------------------------------------------------------------------------------\n",
            "    SOURCE: I had a theoretical reverence and homage for beauty, elegance, gallantry, fascination; but had I met those qualities incarnate in masculine shape, I should have known instinctively that they neither had nor could have sympathy with anything in me, and should have shunned them as one would fire, lightning, or anything else that is bright but antipathetic.\n",
            "    TARGET: Experimentaba una admiración teórica por la belleza, la fascinación y la elegancia, pero reconocía las escasas probabilidades de que un hombre que reuniese tales dotes me mirase con agrado sin ulterior mal pensamiento.\n",
            " PREDICTED: Yo había visto usted un colegio y en el colegio , pero a las señoras se había . Yo había sido , pues , que , no había podido ni a quien yo hubiese cometido ni una confusión . Pero no hubiera podido dormir ni , ni se me ni ni a mí ni se me ni a mí .\n",
            "--------------------------------------------------------------------------------\n",
            "    SOURCE: Before the middle of the day, they were visited by Sir John and Mrs. Jennings, who, having heard of the arrival of a gentleman at the cottage, came to take a survey of the guest.\n",
            "    TARGET: Antes de mediodía recibieron la visita de sir John y la señora Jennings, que habiendo sabido de la visita de un caballero a la cabaña, vinieron a echar una mirada al huésped.\n",
            " PREDICTED: Durante las doce , la primera vez habían llegado a la señora Jennings , y que , junto a la llegada de su llegada a un caballero de campo , se de un buen viaje .\n",
            "--------------------------------------------------------------------------------\n"
          ]
        },
        {
          "output_type": "stream",
          "name": "stderr",
          "text": [
            "Processing Epoch 16: 100%|██████████| 1052/1052 [06:27<00:00,  2.72it/s, loss=2.999]\n"
          ]
        },
        {
          "output_type": "stream",
          "name": "stdout",
          "text": [
            "--------------------------------------------------------------------------------\n",
            "    SOURCE: It came out quite unawares, quite undesignedly.\n",
            "    TARGET: Fue muy de improviso, muy impremeditado.\n",
            " PREDICTED: El mes millas de la inspectora se .\n",
            "--------------------------------------------------------------------------------\n",
            "    SOURCE: Willoughby took his usual place between the two elder Miss Dashwoods.\n",
            "    TARGET: Willoughby ocupó su lugar habitual entre las dos señoritas Dashwood mayores.\n",
            " PREDICTED: Willoughby su a los dos días de ambos .\n",
            "--------------------------------------------------------------------------------\n"
          ]
        },
        {
          "output_type": "stream",
          "name": "stderr",
          "text": [
            "Processing Epoch 17: 100%|██████████| 1052/1052 [06:27<00:00,  2.72it/s, loss=2.318]\n"
          ]
        },
        {
          "output_type": "stream",
          "name": "stdout",
          "text": [
            "--------------------------------------------------------------------------------\n",
            "    SOURCE: How we longed for the light and heat of a blazing fire when we got back!\n",
            "    TARGET: ¡Qué agradable, al regresar, hubiera sido sentarse al lado del fuego!\n",
            " PREDICTED: ¡ Qué de las cortinas de la butaca y en una butaca !\n",
            "--------------------------------------------------------------------------------\n",
            "    SOURCE: \"The fall did not make you ill; what did, then?\" pursued Mr. Lloyd when Bessie was gone.\n",
            "    TARGET: -¿Qué es lo que te pasó ayer? -preguntó Mr. Lloyd cuando Bessie hubo salido.\n",
            " PREDICTED: -¿ Cómo no nada ? - preguntó Bessie .\n",
            "--------------------------------------------------------------------------------\n"
          ]
        },
        {
          "output_type": "stream",
          "name": "stderr",
          "text": [
            "Processing Epoch 18: 100%|██████████| 1052/1052 [06:27<00:00,  2.71it/s, loss=2.080]\n"
          ]
        },
        {
          "output_type": "stream",
          "name": "stdout",
          "text": [
            "--------------------------------------------------------------------------------\n",
            "    SOURCE: I longed to go where there was life and movement: Millcote was a large manufacturing town on the banks of the A-; a busy place enough, doubtless: so much the better; it would be a complete change at least.\n",
            "    TARGET: Mejor que mejor: habría más movimiento, más vida. Mi cambio iba a ser completo.\n",
            " PREDICTED: a buscar aquel misterio y de Rochester . Por una niña , el camino me sentía muy , sobre el fondo , que algo sería agradable .\n",
            "--------------------------------------------------------------------------------\n",
            "    SOURCE: \"Sit down!--Let me hear what they said about me.\"\n",
            "    TARGET: -Siéntese y cuénteme lo que decían.\n",
            " PREDICTED: - No me .\n",
            "--------------------------------------------------------------------------------\n"
          ]
        },
        {
          "output_type": "stream",
          "name": "stderr",
          "text": [
            "Processing Epoch 19: 100%|██████████| 1052/1052 [06:27<00:00,  2.71it/s, loss=2.664]\n"
          ]
        },
        {
          "output_type": "stream",
          "name": "stdout",
          "text": [
            "--------------------------------------------------------------------------------\n",
            "    SOURCE: \"But with a strange kind of tenderness, if he can leave her with such indifference, such carelessness of the future, as you attribute to him.\"\n",
            "    TARGET: -Pero con una rara clase de ternura, si puede dejarla con tal indiferencia, con tal despreocupación por el futuro como la que tú le atribuyes.\n",
            " PREDICTED: - Pero un joven así , como ella puede dar nuevos inconvenientes , si se lo con una mirada en la joven , se lo , al decir a él .\n",
            "--------------------------------------------------------------------------------\n",
            "    SOURCE: Now I wept: Helen Burns was not here; nothing sustained me; left to myself I abandoned myself, and my tears watered the boards.\n",
            "    TARGET: Rompí en lágrimas. Helen no estaba ya a mi lado y nada me confortaba.\n",
            " PREDICTED: No me contemplaba entonces ni Helen . Al de que no me las manos y yo .\n",
            "--------------------------------------------------------------------------------\n"
          ]
        }
      ]
    },
    {
      "cell_type": "code",
      "source": [
        "from pathlib import Path\n",
        "import torch\n",
        "import torch.nn as nn\n",
        "from config import get_config, latest_weights_file_path\n",
        "from train import get_model, get_ds, run_validation\n",
        "from translate import translate"
      ],
      "metadata": {
        "colab": {
          "base_uri": "https://localhost:8080/"
        },
        "id": "aud1MdCDZcW7",
        "outputId": "7cfa6641-8536-4bc8-994f-2f1f8c8b0d4b"
      },
      "execution_count": null,
      "outputs": [
        {
          "output_type": "stream",
          "name": "stdout",
          "text": [
            "Using device: cuda\n",
            "    SOURCE: -f\n",
            " PREDICTED:   "
          ]
        }
      ]
    },
    {
      "cell_type": "code",
      "source": [
        "device = torch.device(\"cuda\" if torch.cuda.is_available() else \"cpu\")\n",
        "print(\"Using device:\", device)\n",
        "config = get_config()\n",
        "train_dataloader, val_dataloader, tokenizer_src, tokenizer_tgt = get_ds(config)\n",
        "model = get_model(config, tokenizer_src.get_vocab_size(), tokenizer_tgt.get_vocab_size()).to(device)\n",
        "\n",
        "# Load the pretrained weights\n",
        "model_filename = latest_weights_file_path(config)\n",
        "state = torch.load(model_filename)\n",
        "model.load_state_dict(state['model_state_dict'])"
      ],
      "metadata": {
        "colab": {
          "base_uri": "https://localhost:8080/"
        },
        "id": "8qlxXlZ4c1cV",
        "outputId": "1ab7b42b-55b3-4bee-df5e-c82c5e661ec0"
      },
      "execution_count": null,
      "outputs": [
        {
          "output_type": "stream",
          "name": "stdout",
          "text": [
            "Using device: cuda\n",
            "Max length of source sentence: 303\n",
            "Max length of target sentence: 243\n"
          ]
        },
        {
          "output_type": "execute_result",
          "data": {
            "text/plain": [
              "<All keys matched successfully>"
            ]
          },
          "metadata": {},
          "execution_count": 6
        }
      ]
    },
    {
      "cell_type": "code",
      "source": [
        "run_validation(model, val_dataloader, tokenizer_src, tokenizer_tgt, config['seq_len'], device, lambda msg: print(msg), 0, None, num_examples=10)"
      ],
      "metadata": {
        "colab": {
          "base_uri": "https://localhost:8080/"
        },
        "id": "qNzR96uec627",
        "outputId": "f2e4d2a3-ee17-4ac1-931e-c9f72bdad1cc"
      },
      "execution_count": null,
      "outputs": [
        {
          "output_type": "stream",
          "name": "stdout",
          "text": [
            "--------------------------------------------------------------------------------\n",
            "    SOURCE: \"I think I can explain that circumstance, sir.\n",
            "    TARGET: -Lo explicaré, señor.\n",
            " PREDICTED: - Lo explicaré , señor .\n",
            "--------------------------------------------------------------------------------\n",
            "    SOURCE: I felt sure that you was angry with me; and have been quarrelling with myself ever since, for having took such a liberty as to trouble you with my affairs.\n",
            "    TARGET: Estaba segura de que se habría enojado conmigo; y desde entonces me he reprochado por haberme tomado la libertad de preocuparla con mis asuntos.\n",
            " PREDICTED: Estaba segura de que se habría enojado conmigo ; y desde entonces me he reprochado por haberme tomado la libertad de preocuparla con mis asuntos .\n",
            "--------------------------------------------------------------------------------\n",
            "    SOURCE: I'll pledge my word on it.\n",
            "    TARGET: Le doy palabra...\n",
            " PREDICTED: Le doy palabra ...\n",
            "--------------------------------------------------------------------------------\n",
            "    SOURCE: Elinor looked as if she wished to hear more.\n",
            "    TARGET: Elinor parecía querer saber más.\n",
            " PREDICTED: Elinor parecía saber cómo deseaba .\n",
            "--------------------------------------------------------------------------------\n",
            "    SOURCE: And issuing from my asylum with precaution, I sought a back-stairs which conducted directly to the kitchen.\n",
            "    TARGET: Y, saliendo de mi refugio con precaución, bajé la escalera de servicio que conducía a la cocina.\n",
            " PREDICTED: Y , saliendo de mi refugio con precaución , bajé la escalera de servicio que conducía a la cocina .\n",
            "--------------------------------------------------------------------------------\n",
            "    SOURCE: Did you think he came directly from town?\"\n",
            "    TARGET: ¿Creyeron que venía directamente de la ciudad?\n",
            " PREDICTED: ¿ Le escuchó mencionar de la ciudad ?\n",
            "--------------------------------------------------------------------------------\n",
            "    SOURCE: \"That is a material consideration undoubtedly.\n",
            "    TARGET: -Indudablemente, ésa es una reflexión de la mayor importancia.\n",
            " PREDICTED: - Indudablemente , ésa es una reflexión de la mayor importancia .\n",
            "--------------------------------------------------------------------------------\n",
            "    SOURCE: Don't we all know that it must be a match, that they were over head and ears in love with each other from the first moment they met?\n",
            "    TARGET: ¡Cómo puede decir eso! ¿Es que no sabemos que su unión es segura... que estaban locamente enamorados desde la primera vez que se vieron?\n",
            " PREDICTED: No sabe que lo que hace una relación que debe estar bien y , y durante todo el momento la primera vista la vanidad .\n",
            "--------------------------------------------------------------------------------\n",
            "    SOURCE: \"Go to your room, and put on your bonnet,\" he replied.\n",
            "    TARGET: -Vete a tu cuarto y ponte el sombrero -dijo-.\n",
            " PREDICTED: - Vete a tu cuarto y el sombrero - dijo -.\n",
            "--------------------------------------------------------------------------------\n",
            "    SOURCE: Tell me that not only your house will remain the same, but that I shall ever find you and yours as unchanged as your dwelling; and that you will always consider me with the kindness which has made everything belonging to you so dear to me.\"\n",
            "    TARGET: Dígame que no sólo su casa se mantendrá igual, sino que siempre la encontraré a usted, y a los suyos, tan inalterados como su morada; y que siempre encontraré en usted ese trato bondadoso que ha hecho tan querido para mí todo lo que le pertenece.\n",
            " PREDICTED: No , no sólo su casa me llevó a usted tanto , pero siempre he de su casa a la que le ha tanto como a usted y sus ideas tan pronto como siempre ha hecho .\n",
            "--------------------------------------------------------------------------------\n"
          ]
        }
      ]
    },
    {
      "cell_type": "code",
      "source": [
        "t = translate(\"The family of Dashwood had long been settled in Sussex\")\n",
        "t"
      ],
      "metadata": {
        "colab": {
          "base_uri": "https://localhost:8080/",
          "height": 86
        },
        "id": "OVaMs9PYc9l8",
        "outputId": "c7032f51-4095-4fd9-d5ce-75dba4966e43"
      },
      "execution_count": null,
      "outputs": [
        {
          "output_type": "stream",
          "name": "stdout",
          "text": [
            "Using device: cuda\n",
            "    SOURCE: The family of Dashwood had long been settled in Sussex\n",
            " PREDICTED: La familia Dashwood Dashwood había estado en Sussex había sido en Sussex .  "
          ]
        },
        {
          "output_type": "execute_result",
          "data": {
            "text/plain": [
              "'La familia Dashwood Dashwood había estado en Sussex había sido en Sussex .'"
            ],
            "application/vnd.google.colaboratory.intrinsic+json": {
              "type": "string"
            }
          },
          "metadata": {},
          "execution_count": 12
        }
      ]
    },
    {
      "cell_type": "code",
      "source": [],
      "metadata": {
        "id": "S1ThFip1pxRb"
      },
      "execution_count": null,
      "outputs": []
    }
  ]
}